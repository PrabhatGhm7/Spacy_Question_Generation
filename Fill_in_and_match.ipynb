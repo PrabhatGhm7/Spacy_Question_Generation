{
  "nbformat": 4,
  "nbformat_minor": 0,
  "metadata": {
    "colab": {
      "provenance": [],
      "authorship_tag": "ABX9TyM8Ed9NXP9QjcmXsFkSRK5h",
      "include_colab_link": true
    },
    "kernelspec": {
      "name": "python3",
      "display_name": "Python 3"
    },
    "language_info": {
      "name": "python"
    }
  },
  "cells": [
    {
      "cell_type": "markdown",
      "metadata": {
        "id": "view-in-github",
        "colab_type": "text"
      },
      "source": [
        "<a href=\"https://colab.research.google.com/github/PrabhatGhm7/Spacy_Question_Generation/blob/main/Fill_in_and_match.ipynb\" target=\"_parent\"><img src=\"https://colab.research.google.com/assets/colab-badge.svg\" alt=\"Open In Colab\"/></a>"
      ]
    },
    {
      "cell_type": "code",
      "execution_count": 79,
      "metadata": {
        "id": "11ZJocZYqowm"
      },
      "outputs": [],
      "source": [
        "import spacy\n",
        "import random\n",
        "#Pre trained English language\n",
        "nlp = spacy.load(\"en_core_web_sm\")"
      ]
    },
    {
      "cell_type": "markdown",
      "source": [
        "# Fill in the blanks"
      ],
      "metadata": {
        "id": "5QUrF9vGaS8v"
      }
    },
    {
      "cell_type": "code",
      "source": [
        "def generate_fill_in_the_blank(sentence, blank_type=None):\n",
        "    doc = nlp(sentence)\n",
        "\n",
        "    elements = {\n",
        "        \"subject\": None,\n",
        "        \"verb\": None,\n",
        "        \"object\": None,\n",
        "        \"place\": None,\n",
        "        \"time\": None,\n",
        "        \"reason\": None,\n",
        "        \"manner\": None\n",
        "    }\n",
        "\n",
        "    for token in doc:\n",
        "        if token.dep_ == \"nsubj\":\n",
        "            elements[\"subject\"] = token.text\n",
        "\n",
        "        elif token.pos_ == \"VERB\":\n",
        "            elements[\"verb\"] = token.text\n",
        "\n",
        "        elif token.dep_ in [\"dobj\", \"attr\"]:\n",
        "            elements[\"object\"] = token.text\n",
        "\n",
        "        #creating subtree for multiple elements\n",
        "        elif token.dep_ == \"pobj\" or token.ent_type_ in [\"GPE\", \"LOC\", \"ORG\"]:\n",
        "            elements[\"place\"] = \" \".join([t.text for t in token.subtree])\n",
        "\n",
        "        elif token.ent_type_ in [\"DATE\", \"TIME\"]:\n",
        "            elements[\"time\"] = \" \".join([t.text for t in token.subtree])\n",
        "\n",
        "        elif token.dep_ in [\"prep\"] and token.text in [\"because\", \"due\"]:\n",
        "            elements[\"reason\"] = \" \".join([t.text for t in token.subtree])\n",
        "\n",
        "        elif token.dep_ == \"advmod\":\n",
        "            elements[\"manner\"] = token.text\n",
        "\n",
        "    #if blank type is provide then use it\n",
        "    if blank_type and blank_type in elements and elements[blank_type]:\n",
        "        blank_word = elements[blank_type]\n",
        "\n",
        "    else: # if blank type is not provided make list in key value and then use one of them to fill\n",
        "        available_blanks = [(k, v) for k, v in elements.items() if v]\n",
        "\n",
        "        if not available_blanks:\n",
        "            return \"Can't Generate Fill-in-the-Blanks Question\"\n",
        "\n",
        "        blank_type, blank_word = random.choice(available_blanks)\n",
        "\n",
        "    blank_sentence = sentence.replace(blank_word, \"_____\",random.randint(0,2))\n",
        "    return f\"Fill in the blank : {blank_sentence} --({blank_type})\""
      ],
      "metadata": {
        "id": "ocyQey0Uq91W"
      },
      "execution_count": 80,
      "outputs": []
    },
    {
      "cell_type": "code",
      "source": [
        "#Trying\n",
        "print(generate_fill_in_the_blank(\"Albert Einstein was born at Ulm, in Württemberg, Germany, on March 14, 1879.\", \"time\"))\n",
        "\n",
        "print(generate_fill_in_the_blank(\"Albert Einstein was born at Ulm, in Württemberg, Germany, on March 14, 1879.\", \"verb\"))\n",
        "\n",
        "print(generate_fill_in_the_blank(\"The dog is walking quickly in the bridge because it is happy.\", \"manner\"))\n",
        "\n",
        "print(generate_fill_in_the_blank(\"Six weeks later the family moved to Munich, where he later on began his education at the Luitpold, Gymnasium.\", \"object\"))"
      ],
      "metadata": {
        "colab": {
          "base_uri": "https://localhost:8080/"
        },
        "id": "H888LE5eOKVv",
        "outputId": "81847639-92aa-4a10-a053-cc5128194ee6"
      },
      "execution_count": 81,
      "outputs": [
        {
          "output_type": "stream",
          "name": "stdout",
          "text": [
            "Fill in the blank : Albert Einstein was born at Ulm, in Württemberg, Germany, on March 14, _____. --(time)\n",
            "Fill in the blank : Albert Einstein was _____ at Ulm, in Württemberg, Germany, on March 14, 1879. --(verb)\n",
            "Fill in the blank : The dog is walking _____ in the bridge because it is happy. --(manner)\n",
            "Fill in the blank : Six weeks later the family moved to Munich, where he later on began his _____ at the Luitpold, Gymnasium. --(object)\n"
          ]
        }
      ]
    },
    {
      "cell_type": "markdown",
      "source": [
        "# Match the following\n"
      ],
      "metadata": {
        "id": "MwBTfrS-U_dQ"
      }
    },
    {
      "cell_type": "code",
      "source": [
        "def generate_match_the_following(sentence):\n",
        "    \"\"\"We Generates match the following question from the given sentence,\n",
        "    by extracting grammatical components and pairing them with their roles. \"\"\"\n",
        "\n",
        "    doc = nlp(sentence)\n",
        "    parts = {}\n",
        "\n",
        "    # Extract components from the sentence.\n",
        "    for token in doc:\n",
        "        if token.dep_ == \"nsubj\" and \"Subject\" not in parts:\n",
        "            parts[\"Subject\"] = token.text\n",
        "\n",
        "        elif token.dep_ == \"ROOT\" and \"Verb\" not in parts:\n",
        "            parts[\"Verb\"] = token.lemma_\n",
        "\n",
        "        elif token.dep_ in [\"dobj\", \"attr\"] and \"Object\" not in parts:\n",
        "            parts[\"Object\"] = token.text\n",
        "\n",
        "        elif (token.dep_ == \"pobj\" or token.ent_type_ in [\"GPE\", \"LOC\", \"ORG\"]) and \"Place\" not in parts:\n",
        "            parts[\"Place\"] = token.text\n",
        "\n",
        "        elif token.ent_type_ in [\"DATE\", \"TIME\"] and \"Time\" not in parts:\n",
        "            parts[\"Time\"] = token.text\n",
        "\n",
        "    if not parts:\n",
        "        return \"Not enough info\"\n",
        "\n",
        "    #Lists of items and their roles.\n",
        "    items = list(parts.values())\n",
        "    roles = list(parts.keys())\n",
        "\n",
        "\n",
        "    #Shuffling the Roles\n",
        "    shuffled_roles = roles[:] #Create a copy of role\n",
        "    random.shuffle(shuffled_roles)\n",
        "\n",
        "    #match the following generation\n",
        "    question_text = \"Match the following (items with grammar roles:)\\n\\n\"\n",
        "    question_text += \"Items:\\n\"\n",
        "\n",
        "    #iterates over the list items, return each element along with an index.\n",
        "    for idx, item in enumerate(items, 1):\n",
        "        question_text += f\"  {idx}. {item}\\n\"\n",
        "\n",
        "    question_text += \"\\n Options:\\n\"\n",
        "    for i, role in enumerate(shuffled_roles):\n",
        "        option_letter = chr(65 + i)\n",
        "        question_text += f\"  {option_letter}. {role}\\n\"\n",
        "\n",
        "    return question_text"
      ],
      "metadata": {
        "id": "gHqIxyOAVCiE"
      },
      "execution_count": 82,
      "outputs": []
    },
    {
      "cell_type": "code",
      "source": [
        "#trying\n",
        "\n",
        "print(generate_match_the_following(\"Six weeks later the family moved to Munich, where he later on began his education at the Luitpold, Gymnasium.\"))"
      ],
      "metadata": {
        "colab": {
          "base_uri": "https://localhost:8080/"
        },
        "id": "c9WtcfdgY2dF",
        "outputId": "1847b16c-f309-4e51-c743-10f00e7d1616"
      },
      "execution_count": 83,
      "outputs": [
        {
          "output_type": "stream",
          "name": "stdout",
          "text": [
            "Match the following (items with grammar roles:)\n",
            "\n",
            "Items:\n",
            "  1. Six\n",
            "  2. family\n",
            "  3. move\n",
            "  4. Munich\n",
            "  5. education\n",
            "\n",
            "Options:\n",
            "  A. Object\n",
            "  B. Verb\n",
            "  C. Subject\n",
            "  D. Place\n",
            "  E. Time\n",
            "\n"
          ]
        }
      ]
    },
    {
      "cell_type": "code",
      "source": [
        "\n",
        "print(generate_match_the_following(\"The quick brown fox jumps over the lazy dog.\"))"
      ],
      "metadata": {
        "colab": {
          "base_uri": "https://localhost:8080/"
        },
        "id": "7EJjLhRrVFMa",
        "outputId": "de74bef1-487f-49a5-ab16-f9ba049fcad0"
      },
      "execution_count": 84,
      "outputs": [
        {
          "output_type": "stream",
          "name": "stdout",
          "text": [
            "Match the following (items with grammar roles:)\n",
            "\n",
            "Items:\n",
            "  1. fox\n",
            "  2. jump\n",
            "  3. dog\n",
            "\n",
            "Options:\n",
            "  A. Verb\n",
            "  B. Place\n",
            "  C. Subject\n",
            "\n"
          ]
        }
      ]
    },
    {
      "cell_type": "code",
      "source": [
        "print(generate_match_the_following(\"Albert Einstein was born at Ulm, in Württemberg, Germany, on March 14, 1879.\"))"
      ],
      "metadata": {
        "colab": {
          "base_uri": "https://localhost:8080/"
        },
        "id": "aztKsnoBYyCO",
        "outputId": "e28dd898-fd88-4ad7-b778-db2c89bd6e20"
      },
      "execution_count": 85,
      "outputs": [
        {
          "output_type": "stream",
          "name": "stdout",
          "text": [
            "Match the following (items with grammar roles:)\n",
            "\n",
            "Items:\n",
            "  1. bear\n",
            "  2. Ulm\n",
            "  3. March\n",
            "\n",
            "Options:\n",
            "  A. Verb\n",
            "  B. Place\n",
            "  C. Time\n",
            "\n"
          ]
        }
      ]
    }
  ]
}