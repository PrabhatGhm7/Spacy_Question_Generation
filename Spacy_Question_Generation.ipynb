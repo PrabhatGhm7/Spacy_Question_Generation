{
  "nbformat": 4,
  "nbformat_minor": 0,
  "metadata": {
    "colab": {
      "provenance": [],
      "authorship_tag": "ABX9TyM/Av4OlzNsNLCP2uStnAkb",
      "include_colab_link": true
    },
    "kernelspec": {
      "name": "python3",
      "display_name": "Python 3"
    },
    "language_info": {
      "name": "python"
    }
  },
  "cells": [
    {
      "cell_type": "markdown",
      "metadata": {
        "id": "view-in-github",
        "colab_type": "text"
      },
      "source": [
        "<a href=\"https://colab.research.google.com/github/PrabhatGhm7/Spacy_Question_Generation/blob/main/Spacy_Question_Generation.ipynb\" target=\"_parent\"><img src=\"https://colab.research.google.com/assets/colab-badge.svg\" alt=\"Open In Colab\"/></a>"
      ]
    },
    {
      "cell_type": "code",
      "source": [
        "import spacy\n",
        "nlp = spacy.load(\"en_core_web_sm\")  #Pre trained English language"
      ],
      "metadata": {
        "id": "eRMSh11q6nJM"
      },
      "execution_count": 62,
      "outputs": []
    },
    {
      "cell_type": "code",
      "source": [
        "def generate_question(sentence):\n",
        "\n",
        "    doc = nlp(sentence)\n",
        "\n",
        "    # Initializes variables to store different parts of the sentence.\n",
        "    subject = None\n",
        "    verb =None\n",
        "    obj =None\n",
        "    place = None\n",
        "    time = None\n",
        "    reason = None\n",
        "    manner = None\n",
        "    aux = None  #is,was,has for gramatical correct question\n",
        "\n",
        "    for token in doc:\n",
        "        if token.dep_ ==\"nsubj\": # identify the subject of sentence\n",
        "            subject = token.text\n",
        "\n",
        "        elif token.pos_ ==\"AUX\":\n",
        "            aux = token.text  #Getting Auxiliary verb like is, was, has, etc.\n",
        "\n",
        "        elif token.pos_ == \"VERB\":\n",
        "            verb = token.lemma_  # Use lemma for base form of verb\n",
        "\n",
        "        elif token.dep_ in [\"dobj\", \"attr\"]:\n",
        "            obj = token.text  # Direct object\n",
        "\n",
        "        elif token.dep_ == \"pobj\" or token.ent_type_ in [\"GPE\",\"LOC\", \"ORG\"]:\n",
        "            place = token.text  # Identifies place-related words (proper nouns, locations)\n",
        "\n",
        "        elif token.dep_ in [\"prep\"] and token.text in [\"because\",\"due\"]:\n",
        "            reason = \" \".join([t.text for t in token.subtree])  # Extract reason phrase like because,due etc\n",
        "\n",
        "        elif token.dep_ == \"advmod\":\n",
        "            manner = token.text  # Manner (How)\n",
        "\n",
        "        elif token.ent_type_ in [\"DATE\", \"TIME\"]:\n",
        "            time = token.text  # Time expressions\n",
        "\n",
        "    '''\n",
        "    Determine the correct question verb form\n",
        "    If the sentence starts with  Past tense VBD, using \"did\"\n",
        "    If the subject is he/she/it, using does\n",
        "    else, use do\n",
        "    '''\n",
        "\n",
        "    question_verb =None\n",
        "    if aux:\n",
        "        question_verb = aux  # Use auxiliary verbs directly like is, was etc.\n",
        "\n",
        "    elif verb:\n",
        "        root_verb = [token for token in doc if token.dep_ == \"ROOT\"][0]\n",
        "        if root_verb.tag_ in [\"VBD\"]:  # Past tense use did in sentence\n",
        "            question_verb = \"did\"\n",
        "\n",
        "        elif subject and subject.lower() in [\"he\", \"she\", \"it\"]:\n",
        "            question_verb = \"does\"\n",
        "        else:\n",
        "            question_verb = \"do\"\n",
        "\n",
        "\n",
        "    # Ensure subject comes after we have auxiliary verb\n",
        "    def format_question(qword, subj,main_verb):\n",
        "\n",
        "        if question_verb and  main_verb:\n",
        "            return f\"{qword} {question_verb} {subj} {main_verb}?\" #verb question\n",
        "\n",
        "        elif aux and main_verb:\n",
        "            return f\"{qword} {aux} {subj} {main_verb}?\" # is,was question\n",
        "\n",
        "        else:\n",
        "            return \"Can't Generate Question\"\n",
        "\n",
        "    # Generate grammatically correct questions\n",
        "    #Generating FInal question\n",
        "\n",
        "    if subject and  verb and place:\n",
        "        return format_question(\"Where\",subject, verb)\n",
        "\n",
        "    elif subject  and verb and time:\n",
        "        return format_question(\"When\",subject,verb)\n",
        "\n",
        "    elif subject and  verb and obj:\n",
        "        return format_question(\"What\",subject, verb)\n",
        "\n",
        "    elif subject and verb  and reason:\n",
        "        return format_question(\"Why\",subject, verb)\n",
        "\n",
        "    elif subject and verb and  manner:\n",
        "        return format_question(\"How\",subject,verb)\n",
        "\n",
        "    elif verb and obj:\n",
        "        return f\"Who {verb} {obj}?\"\n",
        "\n",
        "    return \"Cam't Generate Sentences\"\n",
        "\n"
      ],
      "metadata": {
        "id": "_nevMUJO7nZj"
      },
      "execution_count": 125,
      "outputs": []
    },
    {
      "cell_type": "code",
      "source": [
        "#trying\n",
        "print(generate_question(\"They work in New York.\"))\n",
        "print(generate_question(\"The dog sleeps on the couch.\"))\n",
        "print(generate_question(\"She ate ice-cream.\"))\n",
        "print(generate_question(\"Shristi speaks quickly.\"))\n",
        "print(generate_question(\"The cat chased the rat.\"))\n",
        "print(generate_question(\"Prabhat went to India.\"))\n",
        "print(generate_question(\"The show will happen in the stadium.\"))"
      ],
      "metadata": {
        "colab": {
          "base_uri": "https://localhost:8080/"
        },
        "id": "PPoPMIQC_vMq",
        "outputId": "a9e4449a-3eb2-4389-c188-c0324f4ca348"
      },
      "execution_count": 138,
      "outputs": [
        {
          "output_type": "stream",
          "name": "stdout",
          "text": [
            "Where do They work?\n",
            "Where do dog sleep?\n",
            "What did She eat?\n",
            "How do Shristi speak?\n",
            "What did cat chase?\n",
            "Where did Prabhat go?\n",
            "Where will show happen?\n"
          ]
        }
      ]
    }
  ]
}