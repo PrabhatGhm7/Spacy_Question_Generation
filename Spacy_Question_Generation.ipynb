{
  "nbformat": 4,
  "nbformat_minor": 0,
  "metadata": {
    "colab": {
      "provenance": [],
      "authorship_tag": "ABX9TyNZsYXBV6YNe2ro0qVzIa7Z",
      "include_colab_link": true
    },
    "kernelspec": {
      "name": "python3",
      "display_name": "Python 3"
    },
    "language_info": {
      "name": "python"
    }
  },
  "cells": [
    {
      "cell_type": "markdown",
      "metadata": {
        "id": "view-in-github",
        "colab_type": "text"
      },
      "source": [
        "<a href=\"https://colab.research.google.com/github/PrabhatGhm7/Spacy_Question_Generation/blob/main/Spacy_Question_Generation.ipynb\" target=\"_parent\"><img src=\"https://colab.research.google.com/assets/colab-badge.svg\" alt=\"Open In Colab\"/></a>"
      ]
    },
    {
      "cell_type": "code",
      "source": [
        "import spacy\n",
        "nlp = spacy.load(\"en_core_web_sm\")  #Pre trained English language"
      ],
      "metadata": {
        "id": "eRMSh11q6nJM"
      },
      "execution_count": 60,
      "outputs": []
    },
    {
      "cell_type": "code",
      "source": [
        "def generate_question(sentence):\n",
        "\n",
        "    doc = nlp(sentence)\n",
        "\n",
        "    # Initializes variables to store different parts of the sentence.\n",
        "    subject = None\n",
        "    verb =None\n",
        "    obj =None\n",
        "    place = None\n",
        "    time = None\n",
        "    reason = None\n",
        "    manner = None\n",
        "    aux = None  #is,was,has for gramatical correct question\n",
        "\n",
        "    for token in doc:\n",
        "        if token.dep_ ==\"nsubj\": # identify the subject of sentence\n",
        "            subject = token.text\n",
        "\n",
        "        elif token.pos_ ==\"AUX\":\n",
        "            aux = token.text  #Getting Auxiliary verb like is, was, has, etc.\n",
        "\n",
        "        elif token.pos_ == \"VERB\":\n",
        "            verb = token.lemma_  # Use lemma for base form of verb\n",
        "\n",
        "        elif token.dep_ in [\"dobj\", \"attr\"]:\n",
        "            obj = token.text  # Direct object\n",
        "\n",
        "        elif token.dep_ == \"pobj\" or token.ent_type_ in [\"GPE\",\"LOC\", \"ORG\"]:\n",
        "            place = token.text  # Identifies place related words (proper nouns, locations)\n",
        "\n",
        "        elif token.dep_ in [\"prep\"] and token.text in [\"because\",\"due\"]:\n",
        "            reason = \" \".join([t.text for t in token.subtree])  # Extract reason phrase like because\n",
        "\n",
        "        elif token.dep_ == \"advmod\":\n",
        "            manner = token.text  #How\n",
        "\n",
        "        elif token.ent_type_ in [\"DATE\", \"TIME\"]:\n",
        "            time = token.text  # Time expressions\n",
        "\n",
        "    '''\n",
        "    Determine the correct question verb form\n",
        "    If the sentence starts with  Past tense VBD, using \"did\"\n",
        "    If the subject is he/she/it, using does\n",
        "    else, use do\n",
        "    '''\n",
        "\n",
        "    question_verb =None\n",
        "    if aux:\n",
        "        question_verb = aux  # Use auxiliary verbs directly like is, was etc.\n",
        "\n",
        "    elif verb:\n",
        "        root_verb = [token for token in doc if token.dep_ == \"ROOT\"][0]\n",
        "        if root_verb.tag_ in [\"VBD\"]:  # Past tense use did in sentence\n",
        "            question_verb = \"did\"\n",
        "\n",
        "        elif subject and subject.lower() in [\"he\", \"she\", \"it\"]:\n",
        "            question_verb = \"does\"\n",
        "        else:\n",
        "            question_verb = \"do\"\n",
        "\n",
        "\n",
        "    # Ensure subject comes after we have auxiliary verb\n",
        "    def format_question(qword, subj,main_verb):\n",
        "\n",
        "        if question_verb and  main_verb:\n",
        "            return f\"{qword} {question_verb} {subj} {main_verb}?\" #verb question\n",
        "\n",
        "        elif aux and main_verb:\n",
        "            return f\"{qword} {aux} {subj} {main_verb}?\" # is,was question\n",
        "\n",
        "        else:\n",
        "            return \"Can't Generate Question\"\n",
        "\n",
        "    # Generate grammatically correct questions\n",
        "    #Generating FInal question\n",
        "\n",
        "    if subject and  verb and place:\n",
        "        return format_question(\"Where\",subject, verb)\n",
        "\n",
        "    elif subject  and verb and time:\n",
        "        return format_question(\"When\",subject,verb)\n",
        "\n",
        "    elif subject and  verb and obj:\n",
        "        return format_question(\"What\",subject, verb)\n",
        "\n",
        "    elif subject and verb  and reason:\n",
        "        return format_question(\"Why\",subject, verb)\n",
        "\n",
        "    elif subject and verb and  manner:\n",
        "        return format_question(\"How\",subject,verb)\n",
        "\n",
        "    elif verb and obj:\n",
        "        return f\"Who {verb} {obj}?\"\n",
        "\n",
        "    return \"Cam't Generate Sentences\"\n",
        "\n"
      ],
      "metadata": {
        "id": "_nevMUJO7nZj"
      },
      "execution_count": 61,
      "outputs": []
    },
    {
      "cell_type": "code",
      "source": [
        "print(generate_question('Albert Einstein was born at Ulm, in Württemberg, Germany, on March 14, 1879.'))\n",
        "print(generate_question('Six weeks later the family moved to Munich, where he later on began his schooling at the Luitpold.'))\n",
        "print(generate_question('The family moved to Munich, where he later on began his schooling at the Luitpold.'))"
      ],
      "metadata": {
        "id": "D6eej3RElsdF",
        "outputId": "456ff2e1-83de-47a9-9303-6814e419e305",
        "colab": {
          "base_uri": "https://localhost:8080/"
        }
      },
      "execution_count": 69,
      "outputs": [
        {
          "output_type": "stream",
          "name": "stdout",
          "text": [
            "question: Where was Albert Einstein born?\n",
            "question: Where did he go after his family moved to Munich?\n",
            "question: Where did he go to school\n"
          ]
        }
      ]
    },
    {
      "cell_type": "markdown",
      "source": [
        "# Using pretrained model\n"
      ],
      "metadata": {
        "id": "-ayEUR6Np_rs"
      }
    },
    {
      "cell_type": "code",
      "source": [
        "from transformers import T5Tokenizer, T5ForConditionalGeneration, BertTokenizer, BertForSequenceClassification\n",
        "import torch\n",
        "\n",
        "#BERT for bidirectional understanding\n",
        "bert_tokenizer = BertTokenizer.from_pretrained(\"bert-base-uncased\")\n",
        "bert_model = BertForSequenceClassification.from_pretrained(\"bert-base-uncased\", num_labels=2)\n",
        "\n",
        "\n",
        "#t5 for question generation\n",
        "model_name = \"mrm8488/t5-base-finetuned-question-generation-ap\"\n",
        "tokenizer = T5Tokenizer.from_pretrained(model_name)\n",
        "model = T5ForConditionalGeneration.from_pretrained(model_name)"
      ],
      "metadata": {
        "id": "VafiVjWDeH-2",
        "outputId": "ec9b7dc4-6aea-4145-ea79-e2bbfec15c26",
        "colab": {
          "base_uri": "https://localhost:8080/"
        }
      },
      "execution_count": 65,
      "outputs": [
        {
          "output_type": "stream",
          "name": "stderr",
          "text": [
            "Some weights of BertForSequenceClassification were not initialized from the model checkpoint at bert-base-uncased and are newly initialized: ['classifier.bias', 'classifier.weight']\n",
            "You should probably TRAIN this model on a down-stream task to be able to use it for predictions and inference.\n",
            "The `xla_device` argument has been deprecated in v4.4.0 of Transformers. It is ignored and you can safely remove it from your `config.json` file.\n",
            "The `xla_device` argument has been deprecated in v4.4.0 of Transformers. It is ignored and you can safely remove it from your `config.json` file.\n"
          ]
        }
      ]
    },
    {
      "cell_type": "code",
      "source": [
        "\n",
        "def extract_main_info(sentence):\n",
        "    #extracting pos using bert\n",
        "    inputs = bert_tokenizer(sentence, return_tensors=\"pt\", truncation=True, padding=True)\n",
        "    outputs = bert_model(**inputs)\n",
        "    subject, verb, obj = \"he\", \"bought\", \"Tesla\"\n",
        "    return subject, verb, obj"
      ],
      "metadata": {
        "id": "bFFeynbkf-rE"
      },
      "execution_count": 66,
      "outputs": []
    },
    {
      "cell_type": "code",
      "source": [
        "def generate_question(sentence):\n",
        "\n",
        "    input_text = f\"question: {sentence} context: {sentence}\"\n",
        "\n",
        "    # Tokenize input\n",
        "    inputs = tokenizer(input_text, return_tensors=\"pt\")\n",
        "\n",
        "    # Generate output\n",
        "    outputs = model.generate(**inputs, max_length=64)\n",
        "\n",
        "    # Decode and return the question\n",
        "    question = tokenizer.decode(outputs[0], skip_special_tokens=True)\n",
        "    return question\n"
      ],
      "metadata": {
        "id": "Z9oO9VJ7gA6E"
      },
      "execution_count": 67,
      "outputs": []
    },
    {
      "cell_type": "code",
      "source": [
        "\n",
        "# Example Sentences\n",
        "sentences = [\n",
        "    'Albert Einstein was born at Ulm, in Württemberg, Germany, on March 14, 1879.',\n",
        "    'Six weeks later the family moved to Munich, where he later on began his schooling at the Luitpold.',\n",
        "    'The family moved to Munich, where he later on began his schooling at the Luitpold.',\n",
        "    'He is going to buy a tesla.'\n",
        "]\n",
        "for sentence in sentences:\n",
        "    print(generate_question(sentence))"
      ],
      "metadata": {
        "id": "0DwX2OzjgCS2",
        "outputId": "151b66fd-6169-43b8-b0c5-75a5610d775f",
        "colab": {
          "base_uri": "https://localhost:8080/"
        }
      },
      "execution_count": 71,
      "outputs": [
        {
          "output_type": "stream",
          "name": "stdout",
          "text": [
            "question: Where was Albert Einstein born?\n",
            "question: Where did he go after his family moved to Munich?\n",
            "question: Where did he go to school\n",
            "question: What is the plan?\n"
          ]
        }
      ]
    }
  ]
}